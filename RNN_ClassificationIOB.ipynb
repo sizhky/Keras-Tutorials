{
 "cells": [
  {
   "cell_type": "code",
   "execution_count": 1,
   "metadata": {
    "collapsed": false
   },
   "outputs": [
    {
     "name": "stderr",
     "output_type": "stream",
     "text": [
      "Using Theano backend.\n"
     ]
    }
   ],
   "source": [
    "import numpy as np\n",
    "from keras.models import Sequential\n",
    "from keras.layers.core import Dense, Dropout, Activation, Flatten\n",
    "from keras.layers.recurrent import Recurrent\n",
    "from keras.optimizers import SGD, Adam, RMSprop\n",
    "from keras.utils import np_utils\n",
    "import pickle\n",
    "import matplotlib.pyplot as plt\n",
    "from keras.layers.embeddings import Embedding\n",
    "from keras.layers.recurrent import SimpleRNN\n",
    "plt.ion()\n",
    "train, test, dicts = pickle.load(open('atis.pkl'))\n",
    "\n",
    "idx2labels = dict((v,k) for k, v in dicts['labels2idx'].items())\n",
    "idx2words = dict((v,k) for k, v in dicts['words2idx'].items())\n",
    "\n",
    "def contextwin(l, win):\n",
    "    assert (win % 2) == 1\n",
    "    assert win >= 1\n",
    "    l = list(l)\n",
    "    lpadded = win // 2 * [-1] + l + win // 2 * [-1]\n",
    "    out = [lpadded[i:(i + win)] for i in range(len(l))]\n",
    "    assert len(out) == len(l)\n",
    "    return out\n",
    "\n",
    "contextwin(train[0][0], 5)\n",
    "\n",
    "window_size = 7\n",
    "nlabels =len(idx2labels)+1\n"
   ]
  },
  {
   "cell_type": "code",
   "execution_count": 2,
   "metadata": {
    "collapsed": false
   },
   "outputs": [],
   "source": [
    "# from tqdm import tqdm\n",
    "train_w = [contextwin(t, window_size) for t in train[0]]\n",
    "test_w = [contextwin(t, window_size) for t in test[0]]\n",
    "test_hot = [np_utils.to_categorical(t, nlabels) for t in test[2]]\n",
    "train_hot = [np_utils.to_categorical(t, nlabels) for t in train[2]]"
   ]
  },
  {
   "cell_type": "code",
   "execution_count": 3,
   "metadata": {
    "collapsed": false
   },
   "outputs": [
    {
     "name": "stdout",
     "output_type": "stream",
     "text": [
      "Wall time: 0 ns\n",
      "____________________________________________________________________________________________________\n",
      "Layer (type)                     Output Shape          Param #     Connected to                     \n",
      "====================================================================================================\n",
      "embedding_1 (Embedding)          (None, 7, 1024)       586752      embedding_input_1[0][0]          \n",
      "____________________________________________________________________________________________________\n",
      "simplernn_1 (SimpleRNN)          (None, 32)            33824       embedding_1[0][0]                \n",
      "____________________________________________________________________________________________________\n",
      "dense_1 (Dense)                  (None, 256)           8448        simplernn_1[0][0]                \n",
      "____________________________________________________________________________________________________\n",
      "activation_1 (Activation)        (None, 256)           0           dense_1[0][0]                    \n",
      "____________________________________________________________________________________________________\n",
      "dropout_1 (Dropout)              (None, 256)           0           activation_1[0][0]               \n",
      "____________________________________________________________________________________________________\n",
      "dense_2 (Dense)                  (None, 128)           32896       dropout_1[0][0]                  \n",
      "____________________________________________________________________________________________________\n",
      "activation_2 (Activation)        (None, 128)           0           dense_2[0][0]                    \n",
      "====================================================================================================\n",
      "Total params: 661920\n",
      "____________________________________________________________________________________________________\n"
     ]
    }
   ],
   "source": [
    "model = Sequential()\n",
    "model.add(Embedding(len(idx2words)+1, 1024, input_length = window_size))\n",
    "model.add(SimpleRNN(32))\n",
    "model.add(Dense(nlabels*2))\n",
    "model.add(Activation('relu'))\n",
    "model.add(Dropout(0.4))\n",
    "model.add(Dense(nlabels))\n",
    "model.add(Activation('softmax'))\n",
    "#model.add(Dropout(0.4))\n",
    "%time h = model.compile(loss = 'categorical_crossentropy', optimizer = 'SGD')\n",
    "model.summary()"
   ]
  },
  {
   "cell_type": "code",
   "execution_count": null,
   "metadata": {
    "collapsed": false,
    "scrolled": false
   },
   "outputs": [],
   "source": [
    "from tqdm import tqdm\n",
    "for e in range(2):\n",
    "    print(e)\n",
    "    for i, (tr,hot) in tqdm(enumerate(zip(train_w, train_hot)), total = len(train_w)):\n",
    "        h = model.fit(np.asarray(tr), np.asarray(hot), batch_size = 1, nb_epoch = 1, verbose = 0)"
   ]
  },
  {
   "cell_type": "code",
   "execution_count": 42,
   "metadata": {
    "collapsed": false
   },
   "outputs": [
    {
     "data": {
      "text/plain": [
       "4978"
      ]
     },
     "execution_count": 42,
     "metadata": {},
     "output_type": "execute_result"
    }
   ],
   "source": [
    "len(train_w)"
   ]
  },
  {
   "cell_type": "code",
   "execution_count": 43,
   "metadata": {
    "collapsed": false
   },
   "outputs": [
    {
     "name": "stdout",
     "output_type": "stream",
     "text": [
      "19/19 [==============================] - 0s\n"
     ]
    },
    {
     "data": {
      "text/plain": [
       "array([ 0,  0,  0,  0,  0,  0,  0,  0,  0,  0, 48,  3,  0,  0,  0,  0,  0,\n",
       "        7,  7], dtype=int64)"
      ]
     },
     "execution_count": 43,
     "metadata": {},
     "output_type": "execute_result"
    }
   ],
   "source": [
    "model.predict_classes(test_w[0])-test[2][0]"
   ]
  },
  {
   "cell_type": "code",
   "execution_count": 44,
   "metadata": {
    "collapsed": false
   },
   "outputs": [
    {
     "name": "stdout",
     "output_type": "stream",
     "text": [
      "train accuracy = 69.2648877894 %\n"
     ]
    }
   ],
   "source": [
    "errs = np.sum([len(np.nonzero(model.predict_classes(np.asarray(tw), verbose=0) - t)[0]) for tw, t in zip(train_w, train[2])])\n",
    "words = np.sum(list(map(len, train[2])))\n",
    "err_fraction = float(errs)/words\n",
    "print('train accuracy = {} %'.format((1-err_fraction)*100))"
   ]
  },
  {
   "cell_type": "code",
   "execution_count": 45,
   "metadata": {
    "collapsed": false
   },
   "outputs": [
    {
     "name": "stdout",
     "output_type": "stream",
     "text": [
      "test accuracy = 64.2965862144 %\n"
     ]
    }
   ],
   "source": [
    "errs = np.sum([len(np.nonzero(model.predict_classes(tw, verbose=0) - t)[0]) for tw, t in zip(test_w, test[2])])\n",
    "words = np.sum(list(map(len, test[2])))\n",
    "err_fraction = float(errs)/words\n",
    "print('test accuracy = {} %'.format((1-err_fraction)*100))"
   ]
  },
  {
   "cell_type": "code",
   "execution_count": 80,
   "metadata": {
    "collapsed": false
   },
   "outputs": [],
   "source": [
    "wts = model.get_weights()"
   ]
  },
  {
   "cell_type": "code",
   "execution_count": 94,
   "metadata": {
    "collapsed": false
   },
   "outputs": [
    {
     "name": "stdout",
     "output_type": "stream",
     "text": [
      "1 --> (573L, 64L)\n",
      "2 --> (64L, 32L)\n",
      "3 --> (32L, 32L)\n",
      "4 --> (32L,)\n",
      "5 --> (32L, 128L)\n",
      "6 --> (128L,)\n"
     ]
    }
   ],
   "source": [
    "for ind, weight in enumerate(wts):\n",
    "    print ind+1, '-->', weight.shape"
   ]
  },
  {
   "cell_type": "raw",
   "metadata": {},
   "source": [
    "Credits:\n",
    "Dan Van Boxel - https://www.youtube.com/watch?v=L0IVu_sKOOY\n",
    "François Chollet - https://github.com/fchollet/keras/tree/master/examples; keras.io;\n",
    "http://deeplearning.net/tutorial/rnnslu.html"
   ]
  }
 ],
 "metadata": {
  "kernelspec": {
   "display_name": "Python 2",
   "language": "python",
   "name": "python2"
  },
  "language_info": {
   "codemirror_mode": {
    "name": "ipython",
    "version": 2
   },
   "file_extension": ".py",
   "mimetype": "text/x-python",
   "name": "python",
   "nbconvert_exporter": "python",
   "pygments_lexer": "ipython2",
   "version": "2.7.11"
  }
 },
 "nbformat": 4,
 "nbformat_minor": 0
}
